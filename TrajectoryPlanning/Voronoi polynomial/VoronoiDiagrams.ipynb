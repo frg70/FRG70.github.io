{
 "cells": [
  {
   "cell_type": "code",
   "execution_count": null,
   "metadata": {},
   "outputs": [],
   "source": [
    "# Voronoi\n",
    "!pip install foronoi\n",
    "\n",
    "from foronoi import Voronoi, Polygon, Visualizer, VoronoiObserver\n",
    "import foronoi\n",
    "# Definimos nuestros puntos\n",
    "points = [\n",
    "    (2.5, 2.5),\n",
    "    (4, 7.5),\n",
    "    (7.5, 2.5),\n",
    "    (6, 7.5),\n",
    "    (4, 4),\n",
    "    (3, 3),\n",
    "    (6, 3),\n",
    "]\n",
    "\n",
    "# Definimos nuestro polígono que encierra a los puntos\n",
    "polygon = Polygon([\n",
    "    (2.5, 10),\n",
    "    (5, 10),\n",
    "    (10, 5),\n",
    "    (10, 2.5),\n",
    "    (5, 0),\n",
    "    (2.5, 0),\n",
    "    (0, 2.5),\n",
    "    (0, 5),\n",
    "])\n",
    "\n",
    "# Iniciamos el algoritmo\n",
    "v = Voronoi(polygon)\n",
    "\n",
    "#Agregamos la visualización de la creación de los diagramas\n",
    "v.attach_observer(VoronoiObserver())\n",
    "\n",
    "# Creamos el diagrama\n",
    "v.create_diagram(points=points)\n",
    "\n",
    "# Estas solo son algunas propiedades\n",
    "edges = v.edges\n",
    "vertices = v.vertices\n",
    "arcs = v.arcs\n",
    "#points = v.points\n",
    "#Ploteamos nuestras gráficas y las visualizamos\n",
    "foronoi.Visualizer(v).plot_sites().plot_edges(show_labels=False).plot_vertices().show()\n",
    "\n",
    "for point in v.sites:\n",
    "    print(f\"{point.xy} \\t {point.area()}\")"
   ]
  }
 ],
 "metadata": {
  "kernelspec": {
   "display_name": "Python 3.10.5 64-bit",
   "language": "python",
   "name": "python3"
  },
  "language_info": {
   "name": "python",
   "version": "3.10.5"
  },
  "orig_nbformat": 4,
  "vscode": {
   "interpreter": {
    "hash": "e06e5fa616342e42f80f7b84192cc33c1371e945028d276007a799f8aaa11629"
   }
  }
 },
 "nbformat": 4,
 "nbformat_minor": 2
}
